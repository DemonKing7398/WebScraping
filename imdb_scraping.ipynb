{
 "cells": [
  {
   "cell_type": "markdown",
   "metadata": {},
   "source": [
    "# **Scraping**"
   ]
  },
  {
   "cell_type": "markdown",
   "metadata": {},
   "source": [
    "Web scraping is gathering data through the http request made through your program.\n",
    "<br>Note: this project might depending upon the availabilty of \"Most anticipated movies\" section on the IMDb page in your region.\n",
    "\n",
    "Prerequisite:\n",
    "1. html\n",
    "2. pyhton\n",
    "\n",
    "Documentations:\n",
    "1. requests-https://pypi.org/project/requests/\n",
    "2. BeautifulSoup-https://www.crummy.com/software/BeautifulSoup/bs4/doc/\n",
    "3. pandas-https://pandas.pydata.org/pandas-docs/stable/\n",
    "4. pyplot-https://matplotlib.org/api/pyplot_api.html"
   ]
  },
  {
   "cell_type": "markdown",
   "metadata": {},
   "source": [
    "# **INTRODUCTION**"
   ]
  },
  {
   "cell_type": "markdown",
   "metadata": {},
   "source": [
    "This is a web scraping project<br>\n",
    "I get the real time data from IMDb.com about the most anticipated movies and their public hype %."
   ]
  },
  {
   "cell_type": "markdown",
   "metadata": {},
   "source": [
    "Step 1 : Importing  relevant modules<br><br>"
   ]
  },
  {
   "cell_type": "code",
   "execution_count": 85,
   "metadata": {
    "scrolled": true
   },
   "outputs": [],
   "source": [
    "#import dependencies/packages to perform the actions we need to do\n",
    "\n",
    "import requests #to make request to the webpage we use this package\n",
    "from bs4 import BeautifulSoup as soup #to parse through the web page content tag by tag\n",
    "import pandas as pd # to make a dataframe\n",
    "import matplotlib.pyplot as plt #for visualization\n",
    "import random"
   ]
  },
  {
   "cell_type": "markdown",
   "metadata": {},
   "source": [
    "Step 2 : requesting the website through the get function from requests"
   ]
  },
  {
   "cell_type": "code",
   "execution_count": 86,
   "metadata": {},
   "outputs": [],
   "source": [
    "#accessing the web page \n",
    "url_copy = \"https://www.imdb.com/\"\n",
    "client = requests.get(url_copy)\n",
    "html_code = client.text\n",
    "#remember to close the connection after reading the data\n",
    "client.close()"
   ]
  },
  {
   "cell_type": "markdown",
   "metadata": {},
   "source": [
    "Side by side job<br>\n",
    "inspect the page that is being scraped to get the classes or ids of the elements you need to retrieve\n",
    "<br>![IMDb](https://radacad.com/wp-content/uploads/2019/08/2019-08-01_14h43_05.png)"
   ]
  },
  {
   "cell_type": "markdown",
   "metadata": {},
   "source": [
    "Step 3 : Getting relevant data through the findall function from beautifulSoup and saving it in a csv file"
   ]
  },
  {
   "cell_type": "code",
   "execution_count": 87,
   "metadata": {},
   "outputs": [],
   "source": [
    "with open('imdb.csv','w') as csv_file:\n",
    "        scraped = soup(html_code, \"html.parser\")\n",
    "        container = scraped.findAll(class_=\"trending-list-rank-item\")\n",
    "        csv_file.write(\"Title\"+\",\"+'% popularity'+\"\\n\")\n",
    "        for i in range(len(container)-1,-1,-1):\n",
    "                #scraping name and %popularity from the database\n",
    "                element=container[i]\n",
    "                name=element.find(class_='trending-list-rank-item-name').text\n",
    "                #name=name.split()\n",
    "                share=element.find(class_='trending-list-rank-item-share').text\n",
    "                share=share[0:len(share)-1]\n",
    "                csv_file.write(name+\",\"+share+\"\\n\")\n"
   ]
  },
  {
   "cell_type": "markdown",
   "metadata": {},
   "source": [
    "Step 4 : putting the relevant data in a dataframe and then plot it using plot function"
   ]
  },
  {
   "cell_type": "code",
   "execution_count": 102,
   "metadata": {},
   "outputs": [
    {
     "data": {
      "image/png": "[encoded data removed]",
      "text/plain": [
       "<Figure size 512x352 with 1 Axes>"
      ]
     },
     "metadata": {},
     "output_type": "display_data"
    }
   ],
   "source": [
    "df=pd.read_csv('imdb.csv')\n",
    "plt.style.use(random.choice(plt.style.available))\n",
    "plt.barh(df['Title'],df['% popularity'],)\n",
    "plt.xlabel(\"Hype level in %\")\n",
    "\n",
    "plt.show()"
   ]
  },
  {
   "cell_type": "markdown",
   "metadata": {},
   "source": [
    "Result : A horizontal bar graph showing the upcoming movies and their popularity ratings"
   ]
  }
 ],
 "metadata": {
  "kernelspec": {
   "display_name": "Python 3",
   "language": "python",
   "name": "python3"
  },
  "language_info": {
   "codemirror_mode": {
    "name": "ipython",
    "version": 3
   },
   "file_extension": ".py",
   "mimetype": "text/x-python",
   "name": "python",
   "nbconvert_exporter": "python",
   "pygments_lexer": "ipython3",
   "version": "3.7.4"
  }
 },
 "nbformat": 4,
 "nbformat_minor": 2
}
